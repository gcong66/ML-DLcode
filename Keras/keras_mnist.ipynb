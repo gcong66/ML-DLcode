{
 "cells": [
  {
   "cell_type": "markdown",
   "metadata": {},
   "source": [
    "卷积运算\n",
    "<img src=\"image/conv.jpg\"  width=\"400\" >\n",
    "多个filter卷积示意图\n",
    "<img src=\"image/2-5.gif\"  width=\"400\" >"
   ]
  },
  {
   "cell_type": "markdown",
   "metadata": {},
   "source": [
    "### LeNet-5模型\n",
    "<img src=\"image/LeNet-5.jpg\"  width=\"400\" >\n",
    "第一层：卷积层\n",
    "\n",
    "这一层的输入的原始的图像像素，该模型接受的图像为32321，6个5*5卷积核，步长为1，不使用全0填充。所以这层输出的尺寸为32-5+1=28，深度为6。\n",
    "\n",
    "第二层：池化层\n",
    "\n",
    "该层的输入为第一层的输出，是一个28286的节点矩阵。本层采用的过滤器大小为22，长和宽的步长均为2，所以本层的输出矩阵大小为1414*6。\n",
    "\n",
    "第三层：卷积层\n",
    "\n",
    "本层的输入矩阵大小为14146，16个55卷积核，同样不使用全0填充，步长为1，则本层的输出为1010*16。\n",
    "\n",
    "第四层：池化层\n",
    "\n",
    "该层使用22的过滤器，步长为2，故本层的输出矩阵为55*16。\n",
    "\n",
    "第五层：全连接层\n",
    "\n",
    "如上文所说，在全连接层之前，需要将5516的矩阵“压扁”为一个向量。本层的输出节点个数为120。\n",
    "\n",
    "第六层：全连接层\n",
    "\n",
    "该层输出节点个数为84。\n",
    "\n",
    "第七层：全连接层\n",
    "\n",
    "最后一层，输出节点个数为10，样本的标签个数。"
   ]
  },
  {
   "cell_type": "markdown",
   "metadata": {},
   "source": [
    "## mnist分类"
   ]
  },
  {
   "cell_type": "code",
   "execution_count": 1,
   "metadata": {},
   "outputs": [
    {
     "name": "stderr",
     "output_type": "stream",
     "text": [
      "D:\\Anaconda3\\lib\\site-packages\\h5py\\__init__.py:36: FutureWarning: Conversion of the second argument of issubdtype from `float` to `np.floating` is deprecated. In future, it will be treated as `np.float64 == np.dtype(float).type`.\n",
      "  from ._conv import register_converters as _register_converters\n",
      "Using TensorFlow backend.\n"
     ]
    },
    {
     "data": {
      "text/plain": [
       "'channels_last'"
      ]
     },
     "execution_count": 1,
     "metadata": {},
     "output_type": "execute_result"
    }
   ],
   "source": [
    "import keras\n",
    "from keras.datasets import mnist\n",
    "from keras.models import Sequential\n",
    "from keras.layers import Dense, Dropout, Flatten\n",
    "from keras.layers import Conv2D, MaxPooling2D\n",
    "from keras import backend as K  #默认tensorflow后台\n",
    "K.image_data_format()"
   ]
  },
  {
   "cell_type": "markdown",
   "metadata": {},
   "source": [
    "### 读取数据"
   ]
  },
  {
   "cell_type": "code",
   "execution_count": 2,
   "metadata": {},
   "outputs": [],
   "source": [
    "local_path='F:/xx/data/mnist/mnist.npz'\n",
    "(x_train, y_train), (x_test, y_test) = mnist.load_data(path=local_path)"
   ]
  },
  {
   "cell_type": "markdown",
   "metadata": {},
   "source": [
    "### 处理X和y"
   ]
  },
  {
   "cell_type": "code",
   "execution_count": 4,
   "metadata": {},
   "outputs": [
    {
     "name": "stdout",
     "output_type": "stream",
     "text": [
      "x_train shape: (60000, 28, 28, 1)\n",
      "60000 train samples\n",
      "10000 test samples\n"
     ]
    }
   ],
   "source": [
    "x_train = x_train.reshape(x_train.shape[0], 28, 28, 1)\n",
    "x_test = x_test.reshape(x_test.shape[0], 28, 28, 1)\n",
    "\n",
    "x_train = x_train.astype('float32')\n",
    "x_test = x_test.astype('float32')\n",
    "# 归一化\n",
    "x_train /= 255\n",
    "x_test /= 255\n",
    "print('x_train shape:', x_train.shape)\n",
    "print(x_train.shape[0], 'train samples')\n",
    "print(x_test.shape[0], 'test samples')"
   ]
  },
  {
   "cell_type": "code",
   "execution_count": 6,
   "metadata": {},
   "outputs": [],
   "source": [
    "#y转为one-hot\n",
    "num_classes=10\n",
    "y_train = keras.utils.to_categorical(y_train, num_classes)\n",
    "y_test = keras.utils.to_categorical(y_test, num_classes)"
   ]
  },
  {
   "cell_type": "markdown",
   "metadata": {},
   "source": [
    "### LeNet-5模型的搭建  \n",
    "卷积+最大池化+卷积+最大池化+FC1+FC2+softmax"
   ]
  },
  {
   "cell_type": "code",
   "execution_count": 8,
   "metadata": {},
   "outputs": [],
   "source": [
    "def LeNet5():\n",
    "    model = Sequential()\n",
    "    # 模型第一层要指定input_shape\n",
    "    model.add(Conv2D(filters=6, kernel_size=(5, 5), padding='valid',activation='tanh',input_shape=(28,28,1)))\n",
    "    model.add(MaxPooling2D(pool_size=(2, 2)))\n",
    "    model.add(Conv2D(filters=16, kernel_size=(5, 5), padding='valid',activation='tanh'))\n",
    "    model.add(MaxPooling2D(pool_size=(2, 2)))\n",
    "    model.add(Flatten())\n",
    "    model.add(Dense(120, activation='tanh'))\n",
    "    model.add(Dense(84, activation='tanh'))\n",
    "    #softmax激活函数用于计算该输入图片属于0-9数字的概率\n",
    "    model.add(Dense(10, activation='softmax'))\n",
    "    return model"
   ]
  },
  {
   "cell_type": "markdown",
   "metadata": {},
   "source": [
    "### 训练模型"
   ]
  },
  {
   "cell_type": "code",
   "execution_count": 9,
   "metadata": {},
   "outputs": [
    {
     "name": "stdout",
     "output_type": "stream",
     "text": [
      "Train on 48000 samples, validate on 12000 samples\n",
      "Epoch 1/20\n",
      "48000/48000 [==============================] - 8s 173us/step - loss: 0.2260 - acc: 0.9354 - val_loss: 0.0765 - val_acc: 0.9772\n",
      "Epoch 2/20\n",
      "48000/48000 [==============================] - 4s 78us/step - loss: 0.0704 - acc: 0.9792 - val_loss: 0.0618 - val_acc: 0.9807\n",
      "Epoch 3/20\n",
      "48000/48000 [==============================] - 4s 75us/step - loss: 0.0493 - acc: 0.9846 - val_loss: 0.0580 - val_acc: 0.9822\n",
      "Epoch 4/20\n",
      "48000/48000 [==============================] - 4s 75us/step - loss: 0.0363 - acc: 0.9882 - val_loss: 0.0511 - val_acc: 0.9860\n",
      "Epoch 5/20\n",
      "48000/48000 [==============================] - 4s 77us/step - loss: 0.0289 - acc: 0.9912 - val_loss: 0.0518 - val_acc: 0.9854\n",
      "Epoch 6/20\n",
      "48000/48000 [==============================] - 4s 78us/step - loss: 0.0221 - acc: 0.9931 - val_loss: 0.0512 - val_acc: 0.9858\n",
      "Epoch 7/20\n",
      "48000/48000 [==============================] - 4s 79us/step - loss: 0.0198 - acc: 0.9938 - val_loss: 0.0555 - val_acc: 0.9834\n",
      "Epoch 8/20\n",
      "48000/48000 [==============================] - 4s 80us/step - loss: 0.0137 - acc: 0.9959 - val_loss: 0.0607 - val_acc: 0.9832\n",
      "Epoch 9/20\n",
      "48000/48000 [==============================] - 4s 82us/step - loss: 0.0121 - acc: 0.9961 - val_loss: 0.0525 - val_acc: 0.9860\n",
      "Epoch 10/20\n",
      "48000/48000 [==============================] - 4s 77us/step - loss: 0.0098 - acc: 0.9971 - val_loss: 0.0482 - val_acc: 0.9872\n",
      "Epoch 11/20\n",
      "48000/48000 [==============================] - 4s 79us/step - loss: 0.0072 - acc: 0.9978 - val_loss: 0.0534 - val_acc: 0.9865\n",
      "Epoch 12/20\n",
      "48000/48000 [==============================] - 4s 77us/step - loss: 0.0070 - acc: 0.9978 - val_loss: 0.0575 - val_acc: 0.9861\n",
      "Epoch 13/20\n",
      "48000/48000 [==============================] - 4s 78us/step - loss: 0.0077 - acc: 0.9976 - val_loss: 0.0548 - val_acc: 0.9862\n",
      "Epoch 14/20\n",
      "48000/48000 [==============================] - 4s 78us/step - loss: 0.0056 - acc: 0.9983 - val_loss: 0.0552 - val_acc: 0.9870\n",
      "Epoch 15/20\n",
      "48000/48000 [==============================] - 4s 78us/step - loss: 0.0054 - acc: 0.9983 - val_loss: 0.0535 - val_acc: 0.9872\n",
      "Epoch 16/20\n",
      "48000/48000 [==============================] - 4s 78us/step - loss: 0.0060 - acc: 0.9980 - val_loss: 0.0609 - val_acc: 0.9857\n",
      "Epoch 17/20\n",
      "48000/48000 [==============================] - 4s 80us/step - loss: 0.0052 - acc: 0.9981 - val_loss: 0.0558 - val_acc: 0.9875\n",
      "Epoch 18/20\n",
      "48000/48000 [==============================] - 4s 77us/step - loss: 0.0050 - acc: 0.9984 - val_loss: 0.0610 - val_acc: 0.9862\n",
      "Epoch 19/20\n",
      "48000/48000 [==============================] - 4s 78us/step - loss: 0.0032 - acc: 0.9991 - val_loss: 0.0626 - val_acc: 0.9871\n",
      "Epoch 20/20\n",
      "48000/48000 [==============================] - 4s 78us/step - loss: 0.0060 - acc: 0.9979 - val_loss: 0.0593 - val_acc: 0.9859\n"
     ]
    },
    {
     "data": {
      "text/plain": [
       "<keras.callbacks.History at 0x205e6661be0>"
      ]
     },
     "execution_count": 9,
     "metadata": {},
     "output_type": "execute_result"
    }
   ],
   "source": [
    "model=LeNet5()\n",
    "model.compile(optimizer='adam',loss='categorical_crossentropy',metrics=['accuracy'])\n",
    "model.fit(x_train, y_train,\n",
    "          batch_size=64,\n",
    "          epochs=20,\n",
    "          verbose=1,\n",
    "          validation_split=0.2,\n",
    "          shuffle=True)\n"
   ]
  },
  {
   "cell_type": "markdown",
   "metadata": {},
   "source": [
    "### 评估模型"
   ]
  },
  {
   "cell_type": "code",
   "execution_count": 11,
   "metadata": {},
   "outputs": [
    {
     "name": "stdout",
     "output_type": "stream",
     "text": [
      "Test loss: 0.0503504181388962\n",
      "Test accuracy: 0.9871\n"
     ]
    }
   ],
   "source": [
    "#返回测试集的损失和准确率\n",
    "score = model.evaluate(x_test, y_test, verbose=0)\n",
    "print('Test loss:', score[0])\n",
    "print('Test accuracy:', score[1])"
   ]
  },
  {
   "cell_type": "markdown",
   "metadata": {},
   "source": [
    "最终在测试集的准确率可以达到98.7%"
   ]
  },
  {
   "cell_type": "code",
   "execution_count": null,
   "metadata": {},
   "outputs": [],
   "source": []
  }
 ],
 "metadata": {
  "kernelspec": {
   "display_name": "Python 3",
   "language": "python",
   "name": "python3"
  },
  "language_info": {
   "codemirror_mode": {
    "name": "ipython",
    "version": 3
   },
   "file_extension": ".py",
   "mimetype": "text/x-python",
   "name": "python",
   "nbconvert_exporter": "python",
   "pygments_lexer": "ipython3",
   "version": "3.6.4"
  }
 },
 "nbformat": 4,
 "nbformat_minor": 2
}
